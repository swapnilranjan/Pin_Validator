{
 "cells": [
  {
   "cell_type": "code",
   "execution_count": 2,
   "id": "4c63474c",
   "metadata": {},
   "outputs": [
    {
     "name": "stdout",
     "output_type": "stream",
     "text": [
      "enter a pin: 123\n",
      "invalid1234\n",
      "invalid12345\n",
      "access granted\n"
     ]
    }
   ],
   "source": [
    "pin = input(\"enter a pin: \")\n",
    "\n",
    "while pin != '12345':\n",
    "    pin = input(\"invalid\")\n",
    "    \n",
    "print(\"access granted\")"
   ]
  },
  {
   "cell_type": "code",
   "execution_count": 4,
   "id": "c88fd6a1",
   "metadata": {},
   "outputs": [
    {
     "name": "stdout",
     "output_type": "stream",
     "text": [
      "enter a pin: 12\n",
      "invalid12\n",
      "invalid12\n"
     ]
    },
    {
     "ename": "SystemExit",
     "evalue": "too many attempt",
     "output_type": "error",
     "traceback": [
      "An exception has occurred, use %tb to see the full traceback.\n",
      "\u001b[1;31mSystemExit\u001b[0m\u001b[1;31m:\u001b[0m too many attempt\n"
     ]
    },
    {
     "name": "stderr",
     "output_type": "stream",
     "text": [
      "C:\\Users\\swapnil.ranjan.emeri\\anaconda3\\lib\\site-packages\\IPython\\core\\interactiveshell.py:3445: UserWarning: To exit: use 'exit', 'quit', or Ctrl-D.\n",
      "  warn(\"To exit: use 'exit', 'quit', or Ctrl-D.\", stacklevel=1)\n"
     ]
    }
   ],
   "source": [
    "import sys\n",
    "pin = input(\"enter a pin: \")\n",
    "attempt_seq = 1\n",
    "while pin != '123':\n",
    "    if attempt_seq >= 3:\n",
    "        sys.exit(\"too many attempt\")\n",
    "    pin = input(\"invalid\")\n",
    "    attempt_seq += 1\n",
    "print(\"correct\")"
   ]
  },
  {
   "cell_type": "code",
   "execution_count": 5,
   "id": "ade0db67",
   "metadata": {},
   "outputs": [
    {
     "name": "stdout",
     "output_type": "stream",
     "text": [
      "enter a pin: 12\n",
      "invalid12\n",
      "invalid123\n",
      "correct\n"
     ]
    }
   ],
   "source": [
    "import sys\n",
    "pin = input(\"enter a pin: \")\n",
    "attempt_seq = 1\n",
    "while pin != '123':\n",
    "    if attempt_seq >= 3:\n",
    "        sys.exit(\"too many attempt\")\n",
    "    pin = input(\"invalid\")\n",
    "    attempt_seq += 1\n",
    "print(\"correct\")"
   ]
  }
 ],
 "metadata": {
  "kernelspec": {
   "display_name": "Python 3",
   "language": "python",
   "name": "python3"
  },
  "language_info": {
   "codemirror_mode": {
    "name": "ipython",
    "version": 3
   },
   "file_extension": ".py",
   "mimetype": "text/x-python",
   "name": "python",
   "nbconvert_exporter": "python",
   "pygments_lexer": "ipython3",
   "version": "3.8.8"
  }
 },
 "nbformat": 4,
 "nbformat_minor": 5
}
